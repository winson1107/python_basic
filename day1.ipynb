{
 "cells": [
  {
   "cell_type": "markdown",
   "metadata": {},
   "source": [
    "注释分单行注释多行注释"
   ]
  },
  {
   "cell_type": "code",
   "execution_count": 3,
   "metadata": {},
   "outputs": [
    {
     "name": "stdout",
     "output_type": "stream",
     "text": [
      "Hello Winson\n"
     ]
    }
   ],
   "source": [
    "# 这是一个单行注释\n",
    "print(\"Hello\",\"Winson\")"
   ]
  },
  {
   "cell_type": "code",
   "execution_count": 4,
   "metadata": {},
   "outputs": [
    {
     "name": "stdout",
     "output_type": "stream",
     "text": [
      "HelloWinson\n"
     ]
    }
   ],
   "source": [
    "'''\n",
    "多行注释，三个单引号\n",
    "'''\n",
    "\n",
    "\"\"\"\n",
    "多行注释，三个双引号\n",
    "\"\"\"\n",
    "print(\"Hello\" + \"Winson\")"
   ]
  },
  {
   "cell_type": "markdown",
   "metadata": {},
   "source": [
    "## 2. 运算符\n",
    "\n",
    "\n",
    "\n",
    "<b>算术运算符</b>\n",
    "\n",
    "操作符 | 名称 | 示例\n",
    ":---:|:---:|:---:\n",
    "`+` | 加 | `1 + 1`\n",
    "`-` | 减 | `2 - 1`\n",
    "`*` | 乘 | `3 * 4`\n",
    "`/` | 除 | `3 / 4`\n",
    "`//`| 整除（地板除）| `3 // 4`\n",
    "`%` | 取余| `3 % 4`\n",
    "`**`| 幂 | `2 ** 3`\n",
    "\n"
   ]
  },
  {
   "cell_type": "markdown",
   "metadata": {},
   "source": [
    "<b>比较运算符</b>\n",
    "\n",
    "操作符 | 名称 | 示例\n",
    ":---:|:---:|:---:\n",
    "`>` |大于| `2 > 1`\n",
    "`>=`|大于等于| `2 >= 4`\n",
    "`<` |小于| `1 < 2`\n",
    "`<=`|小于等于| `5 <= 2`\n",
    "`==`|等于| `3 == 4`\n",
    "`!=`|不等于| `3 != 5`\n",
    "\n"
   ]
  },
  {
   "cell_type": "markdown",
   "metadata": {},
   "source": [
    "\n",
    "<b>逻辑运算符</b>\n",
    "\n",
    "操作符 | 名称 | 示例\n",
    ":---:|:---:|:---:\n",
    "`and`|与| `(3 > 2) and (3 < 5)`\n",
    "`or` |或| `(1 > 3) or (9 < 2)`\n",
    "`not`|非| `not (2 > 1)`"
   ]
  },
  {
   "cell_type": "markdown",
   "metadata": {},
   "source": [
    "<b>其他运算符</b>\n",
    "\n",
    "操作符 | 名称 | 示例\n",
    ":---:|:---:|:---:\n",
    "`in`|存在| `'A' in ['A', 'B', 'C']`\n",
    "`not in`|不存在|`'h' not in ['A', 'B', 'C']`\n",
    "`is`|是| `\"hello\" is \"hello\"`\n",
    "`not is`|不是|`\"hello\" is not \"hello\"`\n",
    "\n"
   ]
  },
  {
   "cell_type": "code",
   "execution_count": 8,
   "metadata": {},
   "outputs": [
    {
     "name": "stdout",
     "output_type": "stream",
     "text": [
      "4\n",
      "4\n"
     ]
    }
   ],
   "source": [
    "# 三元运算符\n",
    "x, y = 4, 5\n",
    "if x < y:\n",
    "    small = x\n",
    "else:\n",
    "    small = y\n",
    "\n",
    "print(small)  # 4\n",
    "\n",
    "small_int = x if x < y else y\n",
    "print(small_int)"
   ]
  },
  {
   "cell_type": "code",
   "execution_count": 7,
   "metadata": {},
   "outputs": [
    {
     "name": "stdout",
     "output_type": "stream",
     "text": [
      "A exists\n",
      "h not exists\n"
     ]
    }
   ],
   "source": [
    "letters = ['A', 'B', 'C']\n",
    "if 'A' in letters:\n",
    "    print('A' + ' exists')\n",
    "if 'h' not in letters:\n",
    "    print('h' + ' not exists')"
   ]
  },
  {
   "cell_type": "markdown",
   "metadata": {},
   "source": [
    "注意：\n",
    "- is, is not 对比的是两个变量的内存地址\n",
    "- ==, != 对比的是两个变量的值\n",
    "- 比较的两个变量，指向的都是地址不可变的类型（str等），那么is，is not 和 ==，！= 是完全等价的。\n",
    "- 对比的两个变量，指向的是地址可变的类型（list，dict，tuple等），则两者是有区别的。\n",
    "\n"
   ]
  },
  {
   "cell_type": "code",
   "execution_count": 12,
   "metadata": {},
   "outputs": [
    {
     "name": "stdout",
     "output_type": "stream",
     "text": [
      "True True\n",
      "False False\n"
     ]
    }
   ],
   "source": [
    "a = \"hello\"\n",
    "b = \"hello\"\n",
    "print(a is b, a == b)  # True True\n",
    "print(a is not b, a != b)  # False False"
   ]
  },
  {
   "cell_type": "code",
   "execution_count": 13,
   "metadata": {},
   "outputs": [
    {
     "name": "stdout",
     "output_type": "stream",
     "text": [
      "False True\n",
      "True False\n"
     ]
    }
   ],
   "source": [
    "a = [\"hello\"]\n",
    "b = [\"hello\"]\n",
    "print(a is b, a == b)  # False True\n",
    "print(a is not b, a != b)  # True False"
   ]
  },
  {
   "cell_type": "markdown",
   "metadata": {},
   "source": [
    "\n",
    "| 运算符 | 描述 |\n",
    "|-----|-----|\n",
    "| ** | 指数（最高优先级）   |\n",
    "| ~+- | 按位翻转，一元加号和减号 |\n",
    "| * / % // | 乘，除，取模和取整除）   |\n",
    "| + - | 加法减法 |\n",
    "| >> << | 右移，左移运算符 |\n",
    "|&| 位‘AND’|\n",
    "| ^\\| | 位运算符  |\n",
    "| <=<>>=| 比较运算符 |\n",
    "| <>==!= | 等于运算符  |\n",
    "| =%=/=//=-=+=*=**= | 赋值运算符 |\n",
    "| is is not | 身份运算符   |\n",
    "| in not in | 成员运算符 |\n",
    "| not and or | 逻辑运算符   |"
   ]
  },
  {
   "cell_type": "markdown",
   "metadata": {},
   "source": [
    "\n",
    "## 3. 变量和赋值\n",
    "\n",
    "- 在使用变量之前，需要对其先赋值。\n",
    "- 变量名可以包括字母、数字、下划线、但变量名不能以数字开头。\n",
    "- Python 变量名是大小写敏感的，foo != Foo。\n",
    "\n"
   ]
  },
  {
   "cell_type": "code",
   "execution_count": 18,
   "metadata": {},
   "outputs": [
    {
     "name": "stdout",
     "output_type": "stream",
     "text": [
      "欢迎\n",
      "Python\n"
     ]
    }
   ],
   "source": [
    "\"\"\"\n",
    "字典是默认顺序的\n",
    "列表是从最后一个元素开始取出\n",
    "\"\"\"\n",
    "# 运行一下就好啦\n",
    "set_1= {\"欢迎\", \"学习\",\"Python\"}\n",
    "print(set_1.pop())\n",
    "# 运行一下就好啦\n",
    "set_2= [\"欢迎\", \"学习\",\"Python\"]\n",
    "print(set_2.pop())"
   ]
  },
  {
   "cell_type": "code",
   "execution_count": null,
   "metadata": {},
   "outputs": [],
   "source": []
  }
 ],
 "metadata": {
  "kernelspec": {
   "display_name": "Python 3",
   "language": "python",
   "name": "python3"
  },
  "language_info": {
   "codemirror_mode": {
    "name": "ipython",
    "version": 3
   },
   "file_extension": ".py",
   "mimetype": "text/x-python",
   "name": "python",
   "nbconvert_exporter": "python",
   "pygments_lexer": "ipython3",
   "version": "3.8.6"
  }
 },
 "nbformat": 4,
 "nbformat_minor": 4
}
